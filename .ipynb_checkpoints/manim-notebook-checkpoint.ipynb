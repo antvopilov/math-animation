{
 "cells": [
  {
   "cell_type": "code",
   "execution_count": 1,
   "id": "valuable-trinity",
   "metadata": {},
   "outputs": [],
   "source": [
    "import numpy as np\n",
    "from manim import *"
   ]
  },
  {
   "cell_type": "code",
   "execution_count": 2,
   "id": "metropolitan-dakota",
   "metadata": {},
   "outputs": [
    {
     "name": "stdout",
     "output_type": "stream",
     "text": [
      "usage: manim file [flags] [scene [scene ...]]\n",
      "       manim {cfg,init,plugins} [opts]\n",
      "\n",
      "Animation engine for explanatory math videos\n",
      "\n",
      "positional arguments:\n",
      "  file                  Path to file holding the python code for the scene\n",
      "  scene_names           Name of the Scene class you want to see\n",
      "\n",
      "optional arguments:\n",
      "  -h, --help            show this help message and exit\n",
      "  -o OUTPUT_FILE, --output_file OUTPUT_FILE\n",
      "                        Specify the name of the output file, if it should be\n",
      "                        different from the scene class name\n",
      "  -p, --preview         Automatically open the saved file once its done\n",
      "  -f, --show_in_file_browser\n",
      "                        Show the output file in the File Browser\n",
      "  --sound               Play a success/failure sound\n",
      "  --leave_progress_bars\n",
      "                        Leave progress bars displayed in terminal\n",
      "  -a, --write_all       Write all the scenes from a file\n",
      "  -w, --write_to_movie  Render the scene as a movie file (this is on by\n",
      "                        default)\n",
      "  -s, --save_last_frame\n",
      "                        Save the last frame only (no movie file is generated)\n",
      "  -g, --save_pngs       Save each frame as a png\n",
      "  -i, --save_as_gif     Save the video as gif\n",
      "  --disable_caching     Disable caching (will generate partial-movie-files\n",
      "                        anyway)\n",
      "  --flush_cache         Remove all cached partial-movie-files\n",
      "  --log_to_file         Log terminal output to file\n",
      "  -c BACKGROUND_COLOR, --background_color BACKGROUND_COLOR\n",
      "                        Specify background color\n",
      "  --media_dir MEDIA_DIR\n",
      "                        Directory to store media (including video files)\n",
      "  --log_dir LOG_DIR     Directory to store log files\n",
      "  --tex_template TEX_TEMPLATE\n",
      "                        Specify a custom TeX template file\n",
      "  --dry_run             Do a dry run (render scenes but generate no output\n",
      "                        files)\n",
      "  -t, --transparent     Render a scene with an alpha channel\n",
      "  -q {k,p,h,m,l}, --quality {k,p,h,m,l}\n",
      "                        Render at specific quality, short form of the\n",
      "                        --*_quality flags\n",
      "  --low_quality         Render at low quality\n",
      "  --medium_quality      Render at medium quality\n",
      "  --high_quality        Render at high quality\n",
      "  --production_quality  Render at default production quality\n",
      "  --fourk_quality       Render at 4K quality\n",
      "  -l                    DEPRECATED: USE -ql or --quality l\n",
      "  -m                    DEPRECATED: USE -qm or --quality m\n",
      "  -e                    DEPRECATED: USE -qh or --quality h\n",
      "  -k                    DEPRECATED: USE -qk or --quality k\n",
      "  -r RESOLUTION, --resolution RESOLUTION\n",
      "                        Resolution, passed as \"height,width\". Overrides the\n",
      "                        -l, -m, -e, and -k flags, if present\n",
      "  -n FROM_ANIMATION_NUMBER, --from_animation_number FROM_ANIMATION_NUMBER\n",
      "                        Start rendering at the specified animation index,\n",
      "                        instead of the first animation. If you pass in two\n",
      "                        comma separated values, e.g. '3,6', it will end the\n",
      "                        rendering at the second value\n",
      "  --use_webgl_renderer  Render animations using the WebGL frontend\n",
      "  --webgl_renderer_path WEBGL_RENDERER_PATH\n",
      "                        Path to the WebGL frontend\n",
      "  --webgl_updater_fps WEBGL_UPDATER_FPS\n",
      "                        Frame rate to use when generating keyframe data for\n",
      "                        animations that use updaters while using the WebGL\n",
      "                        frontend\n",
      "  --config_file CONFIG_FILE\n",
      "                        Specify the configuration file\n",
      "  --custom_folders      Use the folders defined in the [custom_folders]\n",
      "                        section of the config file to define the output folder\n",
      "                        structure\n",
      "  -v {DEBUG,INFO,WARNING,ERROR,CRITICAL}, --verbosity {DEBUG,INFO,WARNING,ERROR,CRITICAL}\n",
      "                        Verbosity level. Also changes the ffmpeg log level\n",
      "                        unless the latter is specified in the config\n",
      "  --version             Print the current version of Manim you are using\n",
      "  --progress_bar True/False\n",
      "                        Display the progress bar\n",
      "\n",
      "Made with <3 by the ManimCommunity devs\n"
     ]
    }
   ],
   "source": [
    "%manim -h"
   ]
  },
  {
   "cell_type": "code",
   "execution_count": 3,
   "id": "marked-organization",
   "metadata": {},
   "outputs": [
    {
     "name": "stderr",
     "output_type": "stream",
     "text": [
      "                                                                                  \r"
     ]
    },
    {
     "data": {
      "text/html": [
       "<video src=\"media/jupyter/0227c20c72bb2d359952f8e359416dd1925e7847.mp4\" controls autoplay loop style=\"max-width: 100%;\"  >\n",
       "      Your browser does not support the <code>video</code> element.\n",
       "    </video>"
      ],
      "text/plain": [
       "<IPython.core.display.Video object>"
      ]
     },
     "metadata": {},
     "output_type": "display_data"
    }
   ],
   "source": [
    "%%manim SquareToCircle -qm -v WARNING\n",
    "\n",
    "class SquareToCircle(Scene):\n",
    "    def construct(self):\n",
    "        circle = Circle()\n",
    "        square = Square()\n",
    "        square.flip(RIGHT)\n",
    "        square.rotate(-3 * TAU / 8)\n",
    "        circle.set_fill(PINK, opacity=0.5)\n",
    "\n",
    "        self.play(ShowCreation(square))\n",
    "        self.play(Transform(square, circle))\n",
    "        self.play(FadeOut(square))"
   ]
  },
  {
   "cell_type": "code",
   "execution_count": 4,
   "id": "painful-thought",
   "metadata": {},
   "outputs": [
    {
     "name": "stderr",
     "output_type": "stream",
     "text": [
      "                                                                                             \r"
     ]
    },
    {
     "data": {
      "text/html": [
       "<video src=\"media/jupyter/485d3884ad5d22b7af080acae8f91a2539e485e3.mp4\" controls autoplay loop style=\"max-width: 100%;\"  >\n",
       "      Your browser does not support the <code>video</code> element.\n",
       "    </video>"
      ],
      "text/plain": [
       "<IPython.core.display.Video object>"
      ]
     },
     "metadata": {},
     "output_type": "display_data"
    }
   ],
   "source": [
    "%%manim WarpSquare -qm -v WARNING\n",
    "\n",
    "class WarpSquare(Scene):\n",
    "    def construct(self):\n",
    "        square = Square()\n",
    "        self.play(\n",
    "            ApplyPointwiseFunction(\n",
    "                lambda point: complex_to_R3(np.exp(R3_to_complex(point))), square\n",
    "            )\n",
    "        )\n",
    "        self.wait()"
   ]
  },
  {
   "cell_type": "code",
   "execution_count": 5,
   "id": "distinct-passion",
   "metadata": {},
   "outputs": [
    {
     "name": "stderr",
     "output_type": "stream",
     "text": [
      "/Users/antonvopilov/opt/anaconda3/envs/ManimEnv/lib/python3.7/site-packages/ipykernel_launcher.py:10: DeprecationWarning: This method is not guaranteed to stay around. Please prefer setting the attribute normally or with Mobject.set().\n",
      "  # Remove the CWD from sys.path while we load stuff.\n",
      "                                                                                                                                      \r"
     ]
    },
    {
     "data": {
      "text/html": [
       "<video src=\"media/jupyter/09a3edfdb642b1230ea1f337742c7a393b615f3b.mp4\" controls autoplay loop style=\"max-width: 100%;\"  >\n",
       "      Your browser does not support the <code>video</code> element.\n",
       "    </video>"
      ],
      "text/plain": [
       "<IPython.core.display.Video object>"
      ]
     },
     "metadata": {},
     "output_type": "display_data"
    }
   ],
   "source": [
    "%%manim WriteStuff -qm -v WARNING\n",
    "\n",
    "class WriteStuff(Scene):\n",
    "    def construct(self):\n",
    "        example_text = Tex(\"This is some text\", tex_to_color_map={\"text\": YELLOW})\n",
    "        example_tex = MathTex(\n",
    "            \"\\\\sum_{k=1}^\\\\infty {1 \\\\over k^2} = {\\\\pi^2 \\\\over 6}\",\n",
    "        )\n",
    "        group = VGroup(example_text, example_tex)\n",
    "        group.arrange(DOWN)\n",
    "        group.set_width(config[\"frame_width\"] - 2 * LARGE_BUFF)\n",
    "\n",
    "        self.play(Write(example_text))\n",
    "        self.play(Write(example_tex))\n",
    "        self.wait()\n",
    "        "
   ]
  },
  {
   "cell_type": "code",
   "execution_count": 6,
   "id": "miniature-tourism",
   "metadata": {},
   "outputs": [
    {
     "name": "stderr",
     "output_type": "stream",
     "text": [
      "                                                                                        \r"
     ]
    },
    {
     "data": {
      "text/html": [
       "<video src=\"media/jupyter/573125b924854f67af327e7bd16ff21a8a59a32e.mp4\" controls autoplay loop style=\"max-width: 100%;\"  >\n",
       "      Your browser does not support the <code>video</code> element.\n",
       "    </video>"
      ],
      "text/plain": [
       "<IPython.core.display.Video object>"
      ]
     },
     "metadata": {},
     "output_type": "display_data"
    }
   ],
   "source": [
    "%%manim UpdatersExample -qm -v WARNING\n",
    "\n",
    "class UpdatersExample(Scene):\n",
    "    def construct(self):\n",
    "        decimal = DecimalNumber(\n",
    "            0,\n",
    "            show_ellipsis=True,\n",
    "            num_decimal_places=3,\n",
    "            include_sign=True,\n",
    "        )\n",
    "        square = Square().to_edge(UP)\n",
    "\n",
    "        decimal.add_updater(lambda d: d.next_to(square, RIGHT))\n",
    "        decimal.add_updater(lambda d: d.set_value(square.get_center()[1]))\n",
    "        self.add(square, decimal)\n",
    "        self.play(\n",
    "            square.animate.to_edge(DOWN),\n",
    "            rate_func=there_and_back,\n",
    "            run_time=5,\n",
    "        )\n",
    "        self.wait()"
   ]
  },
  {
   "cell_type": "code",
   "execution_count": 7,
   "id": "european-detail",
   "metadata": {},
   "outputs": [
    {
     "name": "stderr",
     "output_type": "stream",
     "text": [
      "                                                                                                            \r"
     ]
    },
    {
     "data": {
      "text/html": [
       "<video src=\"media/jupyter/842403a66f7a7982edde192a6ee5a67649ac0467.mp4\" controls autoplay loop style=\"max-width: 100%;\"  >\n",
       "      Your browser does not support the <code>video</code> element.\n",
       "    </video>"
      ],
      "text/plain": [
       "<IPython.core.display.Video object>"
      ]
     },
     "metadata": {},
     "output_type": "display_data"
    }
   ],
   "source": [
    "%%manim OpeningManim -qm -v WARNING\n",
    "\n",
    "class OpeningManim(Scene):\n",
    "    def construct(self):\n",
    "        title = Tex(r\"This is some \\LaTeX\")\n",
    "        basel = MathTex(r\"\\sum_{n=1}^\\infty \\frac{1}{n^2} = \\frac{\\pi^2}{6}\")\n",
    "        VGroup(title, basel).arrange(DOWN)\n",
    "        self.play(\n",
    "            Write(title),\n",
    "            FadeInFrom(basel, UP),\n",
    "        )\n",
    "        self.wait()\n",
    "\n",
    "        transform_title = Tex(\"That was a transform\")\n",
    "        transform_title.to_corner(UP + LEFT)\n",
    "        self.play(\n",
    "            Transform(title, transform_title),\n",
    "            LaggedStart(*[FadeOutAndShift(obj, direction=DOWN) for obj in basel]),\n",
    "        )\n",
    "        self.wait()\n",
    "\n",
    "        grid = NumberPlane()\n",
    "        grid_title = Tex(\"This is a grid\")\n",
    "        grid_title.scale(1.5)\n",
    "        grid_title.move_to(transform_title)\n",
    "\n",
    "        self.add(grid, grid_title)  # Make sure title is on top of grid\n",
    "        self.play(\n",
    "            FadeOut(title),\n",
    "            FadeInFrom(grid_title, direction=DOWN),\n",
    "            ShowCreation(grid, run_time=3, lag_ratio=0.1),\n",
    "        )\n",
    "        self.wait()\n",
    "\n",
    "        grid_transform_title = Tex(\n",
    "            r\"That was a non-linear function \\\\ applied to the grid\"\n",
    "        )\n",
    "        grid_transform_title.move_to(grid_title, UL)\n",
    "        grid.prepare_for_nonlinear_transform()\n",
    "        self.play(\n",
    "            grid.animate.apply_function(\n",
    "                lambda p: p\n",
    "                + np.array(\n",
    "                    [\n",
    "                        np.sin(p[1]),\n",
    "                        np.sin(p[0]),\n",
    "                        0,\n",
    "                    ]\n",
    "                )\n",
    "            ),\n",
    "            run_time=3,\n",
    "        )\n",
    "        self.wait()\n",
    "        self.play(Transform(grid_title, grid_transform_title))\n",
    "        self.wait()\n"
   ]
  },
  {
   "cell_type": "code",
   "execution_count": null,
   "id": "activated-space",
   "metadata": {},
   "outputs": [],
   "source": []
  }
 ],
 "metadata": {
  "kernelspec": {
   "display_name": "Python 3",
   "language": "python",
   "name": "python3"
  },
  "language_info": {
   "codemirror_mode": {
    "name": "ipython",
    "version": 3
   },
   "file_extension": ".py",
   "mimetype": "text/x-python",
   "name": "python",
   "nbconvert_exporter": "python",
   "pygments_lexer": "ipython3",
   "version": "3.7.10"
  }
 },
 "nbformat": 4,
 "nbformat_minor": 5
}
